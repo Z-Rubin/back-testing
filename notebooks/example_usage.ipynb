{
 "cells": [
  {
   "cell_type": "code",
   "execution_count": 1,
   "id": "b5580d09",
   "metadata": {},
   "outputs": [],
   "source": [
    "import sys\n",
    "from pathlib import Path\n",
    "sys.path.append(str(Path().resolve().parent))"
   ]
  },
  {
   "cell_type": "code",
   "execution_count": 2,
   "id": "fffbcd95",
   "metadata": {},
   "outputs": [
    {
     "name": "stdout",
     "output_type": "stream",
     "text": [
      "             timestamp     open     high      low    close   volume  \\\n",
      "0  2022-12-31 22:00:00  16544.0  16544.3  16540.6  16541.0  257.084   \n",
      "1  2022-12-31 22:01:00  16540.9  16541.9  16540.9  16541.5   59.582   \n",
      "2  2022-12-31 22:02:00  16541.5  16541.5  16540.5  16541.4   71.693   \n",
      "3  2022-12-31 22:03:00  16541.5  16541.5  16541.0  16541.1   28.035   \n",
      "4  2022-12-31 22:04:00  16541.1  16542.5  16540.3  16542.4   95.339   \n",
      "\n",
      "   quote_asset_volume  \n",
      "0        4.252827e+06  \n",
      "1        9.855661e+05  \n",
      "2        1.185868e+06  \n",
      "3        4.637381e+05  \n",
      "4        1.577066e+06  \n",
      "                     BTCUSDT\n",
      "timestamp                   \n",
      "2022-12-31 22:00:00  16541.0\n",
      "2022-12-31 22:01:00  16541.5\n",
      "2022-12-31 22:02:00  16541.4\n",
      "2022-12-31 22:03:00  16541.1\n",
      "2022-12-31 22:04:00  16542.4\n"
     ]
    }
   ],
   "source": [
    "from backtester.data_loader import DataLoader\n",
    "\n",
    "# Initialize\n",
    "loader = DataLoader()\n",
    "\n",
    "# Load single symbol\n",
    "btc_df = loader.load_symbol(\"BTCUSDT\", file_type=\"csv\")\n",
    "print(btc_df.head())\n",
    "\n",
    "# Load multiple symbols\n",
    "symbols = [\"BTCUSDT\"]\n",
    "data_dict = loader.load_symbols(symbols)\n",
    "\n",
    "# Access data for engine\n",
    "btc_data = loader.get_data(\"BTCUSDT\")\n",
    "\n",
    "# Optional: align timestamps for multi-symbol analysis\n",
    "aligned_prices = loader.align_timestamps()\n",
    "print(aligned_prices.head())\n"
   ]
  },
  {
   "cell_type": "code",
   "execution_count": null,
   "id": "b189a499",
   "metadata": {},
   "outputs": [],
   "source": [
    "# Initialize backtester engine\n",
    "from backtester.engine import BacktesterEngine\n",
    "from backtester.broker import Broker\n",
    "from backtester.portfolio import Portfolio\n",
    "\n",
    "portfolio = Portfolio(initial_cash=100_000)\n",
    "broker = Broker(portfolio, fee_rate=0.001)\n",
    "strategies = [MyRSIStrategy(params={\"period\": 14})]\n",
    "\n",
    "engine = BacktesterEngine(strategies, symbols, broker, portfolio)\n",
    "\n",
    "# Load data\n",
    "for sym in symbols:\n",
    "    engine.load_data(sym, loader.get_data(sym))\n",
    "\n",
    "# Initialize and run\n",
    "engine.initialize()\n",
    "engine.run_backtest()\n"
   ]
  }
 ],
 "metadata": {
  "kernelspec": {
   "display_name": ".venv",
   "language": "python",
   "name": "python3"
  },
  "language_info": {
   "codemirror_mode": {
    "name": "ipython",
    "version": 3
   },
   "file_extension": ".py",
   "mimetype": "text/x-python",
   "name": "python",
   "nbconvert_exporter": "python",
   "pygments_lexer": "ipython3",
   "version": "3.12.3"
  }
 },
 "nbformat": 4,
 "nbformat_minor": 5
}
